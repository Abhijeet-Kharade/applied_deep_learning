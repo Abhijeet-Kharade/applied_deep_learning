{
 "cells": [
  {
   "cell_type": "markdown",
   "metadata": {},
   "source": [
    "# Getting Started with Tensorflow\n",
    "\n",
    "Tensorflow is a framework for defining and running computational graphs. It's primarily used for deep learning although it can also be used for other numerical computing and machine learning tasks.  "
   ]
  },
  {
   "cell_type": "code",
   "execution_count": 1,
   "metadata": {
    "collapsed": true
   },
   "outputs": [],
   "source": [
    "import tensorflow as tf"
   ]
  },
  {
   "cell_type": "markdown",
   "metadata": {},
   "source": [
    "## Tensorflow Graphs and Sessions\n",
    "\n",
    "Tensorflow uses computational graphs to run it's functions and models. Graphs are defined by their operations and variables.\n",
    "\n",
    "Sessions are used to run the a graph. They create the connection between the python program and the C++ TF runtime. Setting up the graph, variables and operations can be done outside the session. But, nothing will be run until it's connected to the session and we evaluate the expression that we created."
   ]
  },
  {
   "cell_type": "code",
   "execution_count": 2,
   "metadata": {
    "collapsed": false
   },
   "outputs": [
    {
     "name": "stdout",
     "output_type": "stream",
     "text": [
      "Tensorflow Output: 66240\n",
      "Python Output: 66240\n"
     ]
    }
   ],
   "source": [
    "# set up two variables\n",
    "x = tf.Variable(32, name='x')\n",
    "y = tf.Variable(45, name='y')\n",
    "\n",
    "# set up some expression to perform on these variables\n",
    "f = x*y + y*x*y\n",
    "\n",
    "with tf.Session() as sess:\n",
    "    x.initializer.run()\n",
    "    y.initializer.run()\n",
    "    result = f.eval()\n",
    "    print('Tensorflow Output:', result)\n",
    "    \n",
    "print('Python Output:', 32*45 + 45*32*45)"
   ]
  },
  {
   "cell_type": "markdown",
   "metadata": {},
   "source": [
    "# Exercise: \n",
    "\n",
    "Use placeholders to create a system that can add any two numbers. Since we will primarily be doing machine learning with TensorFlow we don't necessarily want the data in our graph at the start. We want to have buckets that we can put data into and get some result. Set up the same system as above except this time using placeholders so that we can pass values into it."
   ]
  },
  {
   "cell_type": "code",
   "execution_count": null,
   "metadata": {
    "collapsed": true
   },
   "outputs": [],
   "source": []
  },
  {
   "cell_type": "markdown",
   "metadata": {},
   "source": [
    "### Answer "
   ]
  },
  {
   "cell_type": "code",
   "execution_count": 3,
   "metadata": {
    "collapsed": false
   },
   "outputs": [
    {
     "name": "stdout",
     "output_type": "stream",
     "text": [
      "[66240]\n"
     ]
    }
   ],
   "source": [
    "x = tf.placeholder(tf.int32, shape=(1,), name='x_phldr')\n",
    "y = tf.placeholder(tf.int32, shape=(1,), name='y_phldr')\n",
    "z = x*y + y*x*y\n",
    "\n",
    "with tf.Session() as sess:\n",
    "    result = sess.run(z, feed_dict={x:[32], y:[45]})\n",
    "    \n",
    "print(result)"
   ]
  },
  {
   "cell_type": "markdown",
   "metadata": {},
   "source": [
    "## Basic Linear Regression in Tensorflow\n",
    "\n",
    "Running a basic linear regression in Tensorflow with built in optimizers and gradient descent algorithms."
   ]
  },
  {
   "cell_type": "code",
   "execution_count": 4,
   "metadata": {
    "collapsed": false
   },
   "outputs": [
    {
     "name": "stderr",
     "output_type": "stream",
     "text": [
      "/Users/florianmuellerklein/anaconda3/lib/python3.5/site-packages/sklearn/cross_validation.py:44: DeprecationWarning: This module was deprecated in version 0.18 in favor of the model_selection module into which all the refactored classes and functions are moved. Also note that the interface of the new CV iterators are different from that of this module. This module will be removed in 0.20.\n",
      "  \"This module will be removed in 0.20.\", DeprecationWarning)\n"
     ]
    }
   ],
   "source": [
    "import numpy as np\n",
    "import pandas as pd\n",
    "from sklearn.cross_validation import train_test_split\n",
    "\n",
    "%matplotlib inline\n",
    "import matplotlib.pyplot as plt\n",
    "\n",
    "def normalize(data):\n",
    "    mean = np.mean(data, axis=0)\n",
    "    std = np.std(data, axis=0)\n",
    "    return (data - mean) / std"
   ]
  },
  {
   "cell_type": "code",
   "execution_count": 5,
   "metadata": {
    "collapsed": false
   },
   "outputs": [
    {
     "data": {
      "text/html": [
       "<div>\n",
       "<style>\n",
       "    .dataframe thead tr:only-child th {\n",
       "        text-align: right;\n",
       "    }\n",
       "\n",
       "    .dataframe thead th {\n",
       "        text-align: left;\n",
       "    }\n",
       "\n",
       "    .dataframe tbody tr th {\n",
       "        vertical-align: top;\n",
       "    }\n",
       "</style>\n",
       "<table border=\"1\" class=\"dataframe\">\n",
       "  <thead>\n",
       "    <tr style=\"text-align: right;\">\n",
       "      <th></th>\n",
       "      <th>id</th>\n",
       "      <th>date</th>\n",
       "      <th>price</th>\n",
       "      <th>bedrooms</th>\n",
       "      <th>bathrooms</th>\n",
       "      <th>sqft_living</th>\n",
       "      <th>sqft_lot</th>\n",
       "      <th>floors</th>\n",
       "      <th>waterfront</th>\n",
       "      <th>view</th>\n",
       "      <th>...</th>\n",
       "      <th>grade</th>\n",
       "      <th>sqft_above</th>\n",
       "      <th>sqft_basement</th>\n",
       "      <th>yr_built</th>\n",
       "      <th>yr_renovated</th>\n",
       "      <th>zipcode</th>\n",
       "      <th>lat</th>\n",
       "      <th>long</th>\n",
       "      <th>sqft_living15</th>\n",
       "      <th>sqft_lot15</th>\n",
       "    </tr>\n",
       "  </thead>\n",
       "  <tbody>\n",
       "    <tr>\n",
       "      <th>0</th>\n",
       "      <td>7129300520</td>\n",
       "      <td>20141013T000000</td>\n",
       "      <td>221900.0</td>\n",
       "      <td>3</td>\n",
       "      <td>1.00</td>\n",
       "      <td>1180</td>\n",
       "      <td>5650</td>\n",
       "      <td>1.0</td>\n",
       "      <td>0</td>\n",
       "      <td>0</td>\n",
       "      <td>...</td>\n",
       "      <td>7</td>\n",
       "      <td>1180</td>\n",
       "      <td>0</td>\n",
       "      <td>1955</td>\n",
       "      <td>0</td>\n",
       "      <td>98178</td>\n",
       "      <td>47.5112</td>\n",
       "      <td>-122.257</td>\n",
       "      <td>1340</td>\n",
       "      <td>5650</td>\n",
       "    </tr>\n",
       "    <tr>\n",
       "      <th>1</th>\n",
       "      <td>6414100192</td>\n",
       "      <td>20141209T000000</td>\n",
       "      <td>538000.0</td>\n",
       "      <td>3</td>\n",
       "      <td>2.25</td>\n",
       "      <td>2570</td>\n",
       "      <td>7242</td>\n",
       "      <td>2.0</td>\n",
       "      <td>0</td>\n",
       "      <td>0</td>\n",
       "      <td>...</td>\n",
       "      <td>7</td>\n",
       "      <td>2170</td>\n",
       "      <td>400</td>\n",
       "      <td>1951</td>\n",
       "      <td>1991</td>\n",
       "      <td>98125</td>\n",
       "      <td>47.7210</td>\n",
       "      <td>-122.319</td>\n",
       "      <td>1690</td>\n",
       "      <td>7639</td>\n",
       "    </tr>\n",
       "    <tr>\n",
       "      <th>2</th>\n",
       "      <td>5631500400</td>\n",
       "      <td>20150225T000000</td>\n",
       "      <td>180000.0</td>\n",
       "      <td>2</td>\n",
       "      <td>1.00</td>\n",
       "      <td>770</td>\n",
       "      <td>10000</td>\n",
       "      <td>1.0</td>\n",
       "      <td>0</td>\n",
       "      <td>0</td>\n",
       "      <td>...</td>\n",
       "      <td>6</td>\n",
       "      <td>770</td>\n",
       "      <td>0</td>\n",
       "      <td>1933</td>\n",
       "      <td>0</td>\n",
       "      <td>98028</td>\n",
       "      <td>47.7379</td>\n",
       "      <td>-122.233</td>\n",
       "      <td>2720</td>\n",
       "      <td>8062</td>\n",
       "    </tr>\n",
       "    <tr>\n",
       "      <th>3</th>\n",
       "      <td>2487200875</td>\n",
       "      <td>20141209T000000</td>\n",
       "      <td>604000.0</td>\n",
       "      <td>4</td>\n",
       "      <td>3.00</td>\n",
       "      <td>1960</td>\n",
       "      <td>5000</td>\n",
       "      <td>1.0</td>\n",
       "      <td>0</td>\n",
       "      <td>0</td>\n",
       "      <td>...</td>\n",
       "      <td>7</td>\n",
       "      <td>1050</td>\n",
       "      <td>910</td>\n",
       "      <td>1965</td>\n",
       "      <td>0</td>\n",
       "      <td>98136</td>\n",
       "      <td>47.5208</td>\n",
       "      <td>-122.393</td>\n",
       "      <td>1360</td>\n",
       "      <td>5000</td>\n",
       "    </tr>\n",
       "    <tr>\n",
       "      <th>4</th>\n",
       "      <td>1954400510</td>\n",
       "      <td>20150218T000000</td>\n",
       "      <td>510000.0</td>\n",
       "      <td>3</td>\n",
       "      <td>2.00</td>\n",
       "      <td>1680</td>\n",
       "      <td>8080</td>\n",
       "      <td>1.0</td>\n",
       "      <td>0</td>\n",
       "      <td>0</td>\n",
       "      <td>...</td>\n",
       "      <td>8</td>\n",
       "      <td>1680</td>\n",
       "      <td>0</td>\n",
       "      <td>1987</td>\n",
       "      <td>0</td>\n",
       "      <td>98074</td>\n",
       "      <td>47.6168</td>\n",
       "      <td>-122.045</td>\n",
       "      <td>1800</td>\n",
       "      <td>7503</td>\n",
       "    </tr>\n",
       "  </tbody>\n",
       "</table>\n",
       "<p>5 rows × 21 columns</p>\n",
       "</div>"
      ],
      "text/plain": [
       "           id             date     price  bedrooms  bathrooms  sqft_living  \\\n",
       "0  7129300520  20141013T000000  221900.0         3       1.00         1180   \n",
       "1  6414100192  20141209T000000  538000.0         3       2.25         2570   \n",
       "2  5631500400  20150225T000000  180000.0         2       1.00          770   \n",
       "3  2487200875  20141209T000000  604000.0         4       3.00         1960   \n",
       "4  1954400510  20150218T000000  510000.0         3       2.00         1680   \n",
       "\n",
       "   sqft_lot  floors  waterfront  view     ...      grade  sqft_above  \\\n",
       "0      5650     1.0           0     0     ...          7        1180   \n",
       "1      7242     2.0           0     0     ...          7        2170   \n",
       "2     10000     1.0           0     0     ...          6         770   \n",
       "3      5000     1.0           0     0     ...          7        1050   \n",
       "4      8080     1.0           0     0     ...          8        1680   \n",
       "\n",
       "   sqft_basement  yr_built  yr_renovated  zipcode      lat     long  \\\n",
       "0              0      1955             0    98178  47.5112 -122.257   \n",
       "1            400      1951          1991    98125  47.7210 -122.319   \n",
       "2              0      1933             0    98028  47.7379 -122.233   \n",
       "3            910      1965             0    98136  47.5208 -122.393   \n",
       "4              0      1987             0    98074  47.6168 -122.045   \n",
       "\n",
       "   sqft_living15  sqft_lot15  \n",
       "0           1340        5650  \n",
       "1           1690        7639  \n",
       "2           2720        8062  \n",
       "3           1360        5000  \n",
       "4           1800        7503  \n",
       "\n",
       "[5 rows x 21 columns]"
      ]
     },
     "execution_count": 5,
     "metadata": {},
     "output_type": "execute_result"
    }
   ],
   "source": [
    "house_dat = pd.read_csv('Housing_data/kc_house_data.csv')\n",
    "house_dat.head()"
   ]
  },
  {
   "cell_type": "markdown",
   "metadata": {},
   "source": [
    "Import the california housing dataset, view the shapes."
   ]
  },
  {
   "cell_type": "code",
   "execution_count": 6,
   "metadata": {
    "collapsed": false
   },
   "outputs": [
    {
     "name": "stdout",
     "output_type": "stream",
     "text": [
      "(19451, 18)\n",
      "(19451, 1)\n"
     ]
    }
   ],
   "source": [
    "\n",
    "# load the data into numpy arrays\n",
    "housing_features = house_dat[house_dat.columns.difference(['id', 'price', 'date', 'zipcode'])].values\n",
    "housing_targets = house_dat.price.values\n",
    "\n",
    "n, f_dim = housing_features.shape\n",
    "\n",
    "# normalize the features\n",
    "housing_features= normalize(housing_features)\n",
    "\n",
    "# add bias\n",
    "housing_features = np.c_[np.ones((n, 1)), housing_features]\n",
    "\n",
    "# reshape targets to TF expectation\n",
    "housing_targets = np.expand_dims(housing_targets, 1)\n",
    "\n",
    "X_train, X_test, y_train, y_test = train_test_split(housing_features,\n",
    "                                                    housing_targets,\n",
    "                                                    test_size=0.1)\n",
    "\n",
    "print(X_train.shape)\n",
    "print(y_train.shape)"
   ]
  },
  {
   "cell_type": "code",
   "execution_count": 7,
   "metadata": {
    "collapsed": false
   },
   "outputs": [],
   "source": [
    "LR = 0.005\n",
    "EPOCHS = 5000\n",
    "# save all of the losses\n",
    "losses = []\n",
    "\n",
    "X = tf.placeholder(tf.float32, shape=(None, f_dim+1), name='X')\n",
    "y = tf.placeholder(tf.float32, shape=(None, 1), name='y')\n",
    "W = tf.Variable(tf.ones([f_dim+1, 1]))\n",
    "\n",
    "# after launching a session, run the initializer to initialize all of\n",
    "# the variables in the graph\n",
    "init = tf.global_variables_initializer()\n",
    "\n",
    "# set up operation to get the output from the regression, \n",
    "# dot product of weight  and features\n",
    "y_pred = tf.matmul(X, W)\n",
    "\n",
    "# calculate the mean squared error\n",
    "error = y_pred - y\n",
    "loss = tf.reduce_mean(tf.square(error), name='mse')\n",
    "\n",
    "# use TF's built in autograd features to run gradient descent\n",
    "train_step = tf.train.GradientDescentOptimizer(LR).minimize(loss)"
   ]
  },
  {
   "cell_type": "code",
   "execution_count": 8,
   "metadata": {
    "collapsed": false,
    "scrolled": false
   },
   "outputs": [
    {
     "name": "stdout",
     "output_type": "stream",
     "text": [
      "Epoch: 0 Current loss: 4.3149e+11 Test loss: 3.81263e+11\n",
      "Epoch: 100 Current loss: 8.47929e+10 Test loss: 7.04883e+10\n",
      "Epoch: 200 Current loss: 4.82625e+10 Test loss: 3.77048e+10\n",
      "Epoch: 300 Current loss: 4.3106e+10 Test loss: 3.38829e+10\n",
      "Epoch: 400 Current loss: 4.22542e+10 Test loss: 3.35798e+10\n",
      "Epoch: 500 Current loss: 4.20508e+10 Test loss: 3.3626e+10\n",
      "Epoch: 600 Current loss: 4.19721e+10 Test loss: 3.36735e+10\n",
      "Epoch: 700 Current loss: 4.1931e+10 Test loss: 3.37034e+10\n",
      "Epoch: 800 Current loss: 4.19072e+10 Test loss: 3.37234e+10\n",
      "Epoch: 900 Current loss: 4.18928e+10 Test loss: 3.3738e+10\n",
      "Epoch: 1000 Current loss: 4.1884e+10 Test loss: 3.37494e+10\n",
      "Epoch: 1100 Current loss: 4.18786e+10 Test loss: 3.37584e+10\n",
      "Epoch: 1200 Current loss: 4.18751e+10 Test loss: 3.37656e+10\n",
      "Epoch: 1300 Current loss: 4.1873e+10 Test loss: 3.37713e+10\n",
      "Epoch: 1400 Current loss: 4.18717e+10 Test loss: 3.37759e+10\n",
      "Epoch: 1500 Current loss: 4.18709e+10 Test loss: 3.37794e+10\n",
      "Epoch: 1600 Current loss: 4.18703e+10 Test loss: 3.37822e+10\n",
      "Epoch: 1700 Current loss: 4.187e+10 Test loss: 3.37844e+10\n",
      "Epoch: 1800 Current loss: 4.18698e+10 Test loss: 3.37861e+10\n",
      "Epoch: 1900 Current loss: 4.18697e+10 Test loss: 3.37874e+10\n",
      "Epoch: 2000 Current loss: 4.18696e+10 Test loss: 3.37884e+10\n",
      "Epoch: 2100 Current loss: 4.18695e+10 Test loss: 3.37891e+10\n",
      "Epoch: 2200 Current loss: 4.18695e+10 Test loss: 3.37897e+10\n",
      "Epoch: 2300 Current loss: 4.18695e+10 Test loss: 3.37901e+10\n",
      "Epoch: 2400 Current loss: 4.18695e+10 Test loss: 3.37905e+10\n",
      "Epoch: 2500 Current loss: 4.18695e+10 Test loss: 3.37907e+10\n",
      "Epoch: 2600 Current loss: 4.18694e+10 Test loss: 3.37909e+10\n",
      "Epoch: 2700 Current loss: 4.18694e+10 Test loss: 3.3791e+10\n",
      "Epoch: 2800 Current loss: 4.18694e+10 Test loss: 3.37911e+10\n",
      "Epoch: 2900 Current loss: 4.18695e+10 Test loss: 3.37912e+10\n",
      "Epoch: 3000 Current loss: 4.18695e+10 Test loss: 3.37913e+10\n",
      "Epoch: 3100 Current loss: 4.18694e+10 Test loss: 3.37913e+10\n",
      "Epoch: 3200 Current loss: 4.18695e+10 Test loss: 3.37913e+10\n",
      "Epoch: 3300 Current loss: 4.18695e+10 Test loss: 3.37913e+10\n",
      "Epoch: 3400 Current loss: 4.18695e+10 Test loss: 3.37913e+10\n",
      "Epoch: 3500 Current loss: 4.18695e+10 Test loss: 3.37914e+10\n",
      "Epoch: 3600 Current loss: 4.18695e+10 Test loss: 3.37913e+10\n",
      "Epoch: 3700 Current loss: 4.18695e+10 Test loss: 3.37913e+10\n",
      "Epoch: 3800 Current loss: 4.18695e+10 Test loss: 3.37913e+10\n",
      "Epoch: 3900 Current loss: 4.18695e+10 Test loss: 3.37913e+10\n",
      "Epoch: 4000 Current loss: 4.18694e+10 Test loss: 3.37913e+10\n",
      "Epoch: 4100 Current loss: 4.18695e+10 Test loss: 3.37913e+10\n",
      "Epoch: 4200 Current loss: 4.18694e+10 Test loss: 3.37913e+10\n",
      "Epoch: 4300 Current loss: 4.18694e+10 Test loss: 3.37913e+10\n",
      "Epoch: 4400 Current loss: 4.18694e+10 Test loss: 3.37913e+10\n",
      "Epoch: 4500 Current loss: 4.18694e+10 Test loss: 3.37913e+10\n",
      "Epoch: 4600 Current loss: 4.18694e+10 Test loss: 3.37913e+10\n",
      "Epoch: 4700 Current loss: 4.18694e+10 Test loss: 3.37913e+10\n",
      "Epoch: 4800 Current loss: 4.18694e+10 Test loss: 3.37913e+10\n",
      "Epoch: 4900 Current loss: 4.18694e+10 Test loss: 3.37913e+10\n"
     ]
    }
   ],
   "source": [
    "saver = tf.train.Saver()\n",
    "\n",
    "with tf.Session() as sess:\n",
    "    sess.run(init)\n",
    "    \n",
    "    for e in range(EPOCHS):\n",
    "        if e % 100 == 0:\n",
    "            print(\"Epoch:\", e, \n",
    "                  \"Current loss:\", \n",
    "                  sess.run(loss, feed_dict={X: X_train, y: y_train}), \n",
    "                  \"Test loss:\",\n",
    "                 sess.run(loss, feed_dict={X: X_test, y: y_test}))\n",
    "            \n",
    "        sess.run(train_step, feed_dict={X: X_train, y: y_train})\n",
    "        losses.append(sess.run(loss, feed_dict={X: X_train, y: y_train}))\n",
    "        \n",
    "    best_weights = W.eval()\n",
    "    save_path = saver.save(sess, '/tmp/linear_regression.ckpt')"
   ]
  },
  {
   "cell_type": "code",
   "execution_count": 9,
   "metadata": {
    "collapsed": false
   },
   "outputs": [
    {
     "data": {
      "image/png": "[encoded data removed]",
      "text/plain": [
       "<matplotlib.figure.Figure at 0x125d394e0>"
      ]
     },
     "metadata": {},
     "output_type": "display_data"
    }
   ],
   "source": [
    "plt.plot(range(len(losses)),np.array(losses))\n",
    "plt.axis([0,EPOCHS,np.min(losses),np.max(losses)])\n",
    "plt.show()"
   ]
  },
  {
   "cell_type": "markdown",
   "metadata": {},
   "source": [
    "# Exercise\n",
    "\n",
    "### Making predictions on our test data\n",
    "\n",
    "Now that we have our trained model, we can load it up and make predictions on our test set. Load the model from the stored state, and run the prediction function with a TensorFlow Session on the testing data."
   ]
  },
  {
   "cell_type": "code",
   "execution_count": 10,
   "metadata": {
    "collapsed": false
   },
   "outputs": [
    {
     "name": "stdout",
     "output_type": "stream",
     "text": [
      "INFO:tensorflow:Restoring parameters from /tmp/linear_regression.ckpt\n"
     ]
    }
   ],
   "source": [
    "# best weight values are saved in the checkpoint\n",
    "with tf.Session() as sess:\n",
    "    saver.restore(sess, '/tmp/linear_regression.ckpt')\n",
    "    # fill in the rest below"
   ]
  },
  {
   "cell_type": "markdown",
   "metadata": {},
   "source": [
    "### Answer"
   ]
  },
  {
   "cell_type": "code",
   "execution_count": 11,
   "metadata": {
    "collapsed": false,
    "scrolled": false
   },
   "outputs": [
    {
     "name": "stdout",
     "output_type": "stream",
     "text": [
      "INFO:tensorflow:Restoring parameters from /tmp/linear_regression.ckpt\n",
      "3.37913e+10\n"
     ]
    }
   ],
   "source": [
    "# best weight values are saved in the checkpoint\n",
    "with tf.Session() as sess:\n",
    "    saver.restore(sess, '/tmp/linear_regression.ckpt')\n",
    "    preds = sess.run(y_pred, feed_dict={X: X_test})\n",
    "    print(sess.run(loss, feed_dict={X: X_test, y: y_test}))"
   ]
  },
  {
   "cell_type": "code",
   "execution_count": 12,
   "metadata": {
    "collapsed": false
   },
   "outputs": [
    {
     "data": {
      "image/png": "[encoded data removed]",
      "text/plain": [
       "<matplotlib.figure.Figure at 0x109e7fc88>"
      ]
     },
     "metadata": {},
     "output_type": "display_data"
    }
   ],
   "source": [
    "fig, ax = plt.subplots()\n",
    "ax.scatter(y_test, preds)\n",
    "ax.plot([y_test.min(), y_test.max()], \n",
    "        [y_test.min(), y_test.max()], '--', lw=3, color='r')\n",
    "ax.set_xlabel('True Value')\n",
    "ax.set_ylabel('Predicted')\n",
    "plt.show()"
   ]
  },
  {
   "cell_type": "code",
   "execution_count": null,
   "metadata": {
    "collapsed": true
   },
   "outputs": [],
   "source": []
  }
 ],
 "metadata": {
  "anaconda-cloud": {},
  "kernelspec": {
   "display_name": "Python [conda root]",
   "language": "python",
   "name": "conda-root-py"
  },
  "language_info": {
   "codemirror_mode": {
    "name": "ipython",
    "version": 3
   },
   "file_extension": ".py",
   "mimetype": "text/x-python",
   "name": "python",
   "nbconvert_exporter": "python",
   "pygments_lexer": "ipython3",
   "version": "3.5.2"
  }
 },
 "nbformat": 4,
 "nbformat_minor": 1
}
