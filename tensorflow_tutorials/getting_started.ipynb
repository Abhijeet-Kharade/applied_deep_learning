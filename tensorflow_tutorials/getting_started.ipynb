{
 "cells": [
  {
   "cell_type": "markdown",
   "metadata": {},
   "source": [
    "# Getting Started with Tensorflow\n",
    "\n",
    "Tensorflow is a framework for defining and running computational graphs. It's primarily used for deep learning although it can also be used for other numerical computing and machine learning tasks.  "
   ]
  },
  {
   "cell_type": "code",
   "execution_count": 1,
   "metadata": {
    "collapsed": true
   },
   "outputs": [],
   "source": [
    "import tensorflow as tf"
   ]
  },
  {
   "cell_type": "markdown",
   "metadata": {},
   "source": [
    "## Tensorflow Graphs and Sessions\n",
    "\n",
    "Tensorflow uses computational graphs to run it's functions and models. Graphs are defined by their operations and variables.\n",
    "\n",
    "Sessions are used to run the a graph. They create the connection between the python program and the C++ TF runtime. Setting up the graph, variables and operations can be done outside the session. But, nothing will be run until it's connected to the session and we evaluate the expression that we created."
   ]
  },
  {
   "cell_type": "code",
   "execution_count": 2,
   "metadata": {
    "collapsed": false
   },
   "outputs": [
    {
     "name": "stdout",
     "output_type": "stream",
     "text": [
      "Tensorflow Output: 66240\n",
      "Python Output: 66240\n"
     ]
    }
   ],
   "source": [
    "# set up two variables\n",
    "x = tf.Variable(32, name='x')\n",
    "y = tf.Variable(45, name='y')\n",
    "\n",
    "# set up some expression to perform on these variables\n",
    "f = x*y + y*x*y\n",
    "\n",
    "with tf.Session() as sess:\n",
    "    x.initializer.run()\n",
    "    y.initializer.run()\n",
    "    result = f.eval()\n",
    "    print('Tensorflow Output:', result)\n",
    "    \n",
    "print('Python Output:', 32*45 + 45*32*45)"
   ]
  },
  {
   "cell_type": "markdown",
   "metadata": {},
   "source": [
    "## Basic Linear Regression in Tensorflow\n",
    "\n",
    "Running a basic linear regreesion in Tensorflow with built in optimizers and gradient descent algorithms."
   ]
  },
  {
   "cell_type": "code",
   "execution_count": 3,
   "metadata": {
    "collapsed": true
   },
   "outputs": [],
   "source": [
    "import numpy as np\n",
    "from sklearn.datasets import fetch_california_housing\n",
    "from sklearn.model_selection import train_test_split\n",
    "\n",
    "%matplotlib inline\n",
    "import matplotlib.pyplot as plt\n",
    "\n",
    "def normalize(data):\n",
    "    mean = np.mean(data, axis=0)\n",
    "    std = np.std(data, axis=0)\n",
    "    return (data - mean) / std"
   ]
  },
  {
   "cell_type": "markdown",
   "metadata": {},
   "source": [
    "Import the california housing dataset, view the shapes."
   ]
  },
  {
   "cell_type": "code",
   "execution_count": 4,
   "metadata": {
    "collapsed": false
   },
   "outputs": [
    {
     "name": "stdout",
     "output_type": "stream",
     "text": [
      "['MedInc', 'HouseAge', 'AveRooms', 'AveBedrms', 'Population', 'AveOccup', 'Latitude', 'Longitude']\n",
      "(17683, 9)\n",
      "(17683, 1)\n"
     ]
    }
   ],
   "source": [
    "housing = fetch_california_housing()\n",
    "\n",
    "# load the data into numpy arrays\n",
    "housing_features = housing.data\n",
    "housing_targets = housing.target\n",
    "\n",
    "n, f_dim = housing_features.shape\n",
    "\n",
    "# normalize the features\n",
    "housing_features= normalize(housing_features)\n",
    "\n",
    "# add bias\n",
    "housing_features = np.c_[np.ones((n, 1)), housing_features]\n",
    "\n",
    "housing_features = housing_features[housing_targets < 5]\n",
    "housing_targets = housing_targets[housing_targets < 5]\n",
    "\n",
    "# reshape targets to TF expectation\n",
    "housing_targets = np.expand_dims(housing_targets, 1)\n",
    "\n",
    "X_train, X_test, y_train, y_test = train_test_split(housing_features,\n",
    "                                                    housing_targets,\n",
    "                                                    test_size=0.1)\n",
    "\n",
    "print(housing.feature_names)\n",
    "print(X_train.shape)\n",
    "print(y_train.shape)"
   ]
  },
  {
   "cell_type": "code",
   "execution_count": 5,
   "metadata": {
    "collapsed": false
   },
   "outputs": [],
   "source": [
    "LR = 0.005\n",
    "EPOCHS = 5000\n",
    "# save all of the losses\n",
    "losses = []\n",
    "\n",
    "X = tf.placeholder(tf.float32, shape=(None, f_dim+1), name='X')\n",
    "y = tf.placeholder(tf.float32, shape=(None, 1), name='y')\n",
    "W = tf.Variable(tf.ones([f_dim+1, 1]))\n",
    "\n",
    "# after launching a session, run the initializer to initialize all of\n",
    "# the variables in the graph\n",
    "init = tf.global_variables_initializer()\n",
    "\n",
    "# set up operation to get the output from the regression, \n",
    "# dot product of weight  and features\n",
    "y_pred = tf.matmul(X, W)\n",
    "\n",
    "# calculate the mean squared error\n",
    "error = y_pred - y\n",
    "loss = tf.reduce_mean(tf.square(error), name='mse')\n",
    "\n",
    "# use TF's built in autograd features to run gradient descent\n",
    "train_step = tf.train.GradientDescentOptimizer(LR).minimize(loss)"
   ]
  },
  {
   "cell_type": "code",
   "execution_count": 6,
   "metadata": {
    "collapsed": false,
    "scrolled": false
   },
   "outputs": [
    {
     "name": "stdout",
     "output_type": "stream",
     "text": [
      "Epoch: 0 Current loss: 7.54174 Test loss: 5.1794\n",
      "Epoch: 100 Current loss: 1.44874 Test loss: 1.33336\n",
      "Epoch: 200 Current loss: 0.851941 Test loss: 0.867089\n",
      "Epoch: 300 Current loss: 0.722235 Test loss: 0.743097\n",
      "Epoch: 400 Current loss: 0.665404 Test loss: 0.686548\n",
      "Epoch: 500 Current loss: 0.627018 Test loss: 0.649025\n",
      "Epoch: 600 Current loss: 0.596321 Test loss: 0.619374\n",
      "Epoch: 700 Current loss: 0.570444 Test loss: 0.594484\n",
      "Epoch: 800 Current loss: 0.548276 Test loss: 0.573194\n",
      "Epoch: 900 Current loss: 0.52918 Test loss: 0.554877\n",
      "Epoch: 1000 Current loss: 0.512691 Test loss: 0.539085\n",
      "Epoch: 1100 Current loss: 0.498432 Test loss: 0.525456\n",
      "Epoch: 1200 Current loss: 0.486086 Test loss: 0.513683\n",
      "Epoch: 1300 Current loss: 0.475381 Test loss: 0.503503\n",
      "Epoch: 1400 Current loss: 0.466091 Test loss: 0.494693\n",
      "Epoch: 1500 Current loss: 0.458016 Test loss: 0.487058\n",
      "Epoch: 1600 Current loss: 0.450987 Test loss: 0.480434\n",
      "Epoch: 1700 Current loss: 0.444863 Test loss: 0.474679\n",
      "Epoch: 1800 Current loss: 0.439517 Test loss: 0.469674\n",
      "Epoch: 1900 Current loss: 0.434845 Test loss: 0.465312\n",
      "Epoch: 2000 Current loss: 0.430754 Test loss: 0.461506\n",
      "Epoch: 2100 Current loss: 0.427169 Test loss: 0.458181\n",
      "Epoch: 2200 Current loss: 0.42402 Test loss: 0.455269\n",
      "Epoch: 2300 Current loss: 0.42125 Test loss: 0.452717\n",
      "Epoch: 2400 Current loss: 0.41881 Test loss: 0.450474\n",
      "Epoch: 2500 Current loss: 0.416657 Test loss: 0.448502\n",
      "Epoch: 2600 Current loss: 0.414754 Test loss: 0.446763\n",
      "Epoch: 2700 Current loss: 0.413069 Test loss: 0.445227\n",
      "Epoch: 2800 Current loss: 0.411574 Test loss: 0.443869\n",
      "Epoch: 2900 Current loss: 0.410246 Test loss: 0.442665\n",
      "Epoch: 3000 Current loss: 0.409064 Test loss: 0.441596\n",
      "Epoch: 3100 Current loss: 0.408012 Test loss: 0.440645\n",
      "Epoch: 3200 Current loss: 0.407071 Test loss: 0.439798\n",
      "Epoch: 3300 Current loss: 0.40623 Test loss: 0.439042\n",
      "Epoch: 3400 Current loss: 0.405477 Test loss: 0.438365\n",
      "Epoch: 3500 Current loss: 0.404802 Test loss: 0.437759\n",
      "Epoch: 3600 Current loss: 0.404194 Test loss: 0.437215\n",
      "Epoch: 3700 Current loss: 0.403649 Test loss: 0.436726\n",
      "Epoch: 3800 Current loss: 0.403156 Test loss: 0.436285\n",
      "Epoch: 3900 Current loss: 0.402713 Test loss: 0.435888\n",
      "Epoch: 4000 Current loss: 0.402312 Test loss: 0.435529\n",
      "Epoch: 4100 Current loss: 0.401949 Test loss: 0.435204\n",
      "Epoch: 4200 Current loss: 0.401621 Test loss: 0.43491\n",
      "Epoch: 4300 Current loss: 0.401323 Test loss: 0.434643\n",
      "Epoch: 4400 Current loss: 0.401052 Test loss: 0.434401\n",
      "Epoch: 4500 Current loss: 0.400807 Test loss: 0.43418\n",
      "Epoch: 4600 Current loss: 0.400584 Test loss: 0.433979\n",
      "Epoch: 4700 Current loss: 0.400379 Test loss: 0.433796\n",
      "Epoch: 4800 Current loss: 0.400194 Test loss: 0.433629\n",
      "Epoch: 4900 Current loss: 0.400025 Test loss: 0.433476\n"
     ]
    }
   ],
   "source": [
    "saver = tf.train.Saver()\n",
    "\n",
    "with tf.Session() as sess:\n",
    "    sess.run(init)\n",
    "    \n",
    "    for e in range(EPOCHS):\n",
    "        if e % 100 == 0:\n",
    "            print(\"Epoch:\", e, \n",
    "                  \"Current loss:\", \n",
    "                  sess.run(loss, feed_dict={X: X_train, y: y_train}), \n",
    "                  \"Test loss:\",\n",
    "                 sess.run(loss, feed_dict={X: X_test, y: y_test}))\n",
    "            \n",
    "        sess.run(train_step, feed_dict={X: X_train, y: y_train})\n",
    "        losses.append(sess.run(loss, feed_dict={X: X_train, y: y_train}))\n",
    "        \n",
    "    best_weights = W.eval()\n",
    "    save_path = saver.save(sess, '/tmp/linear_regression.ckpt')"
   ]
  },
  {
   "cell_type": "code",
   "execution_count": 7,
   "metadata": {
    "collapsed": false
   },
   "outputs": [
    {
     "data": {
      "image/png": "[encoded data removed]",
      "text/plain": [
       "<matplotlib.figure.Figure at 0x125f48b38>"
      ]
     },
     "metadata": {},
     "output_type": "display_data"
    }
   ],
   "source": [
    "plt.plot(range(len(losses)),np.array(losses))\n",
    "plt.axis([0,EPOCHS,np.min(losses),np.max(losses)])\n",
    "plt.show()"
   ]
  },
  {
   "cell_type": "markdown",
   "metadata": {},
   "source": [
    "### Making predictions on our test data\n",
    "\n",
    "We will use one of our output functions to generate the predictions for our test set."
   ]
  },
  {
   "cell_type": "code",
   "execution_count": 8,
   "metadata": {
    "collapsed": false,
    "scrolled": false
   },
   "outputs": [
    {
     "name": "stdout",
     "output_type": "stream",
     "text": [
      "INFO:tensorflow:Restoring parameters from /tmp/linear_regression.ckpt\n",
      "0.433336\n"
     ]
    }
   ],
   "source": [
    "# best weight values are saved in the checkpoint\n",
    "with tf.Session() as sess:\n",
    "    saver.restore(sess, '/tmp/linear_regression.ckpt')\n",
    "    preds = sess.run(y_pred, feed_dict={X: X_test})\n",
    "    print(sess.run(loss, feed_dict={X: X_test, y: y_test}))"
   ]
  },
  {
   "cell_type": "code",
   "execution_count": 9,
   "metadata": {
    "collapsed": false
   },
   "outputs": [
    {
     "data": {
      "image/png": "[encoded data removed]",
      "text/plain": [
       "<matplotlib.figure.Figure at 0x127007358>"
      ]
     },
     "metadata": {},
     "output_type": "display_data"
    }
   ],
   "source": [
    "fig, ax = plt.subplots()\n",
    "ax.scatter(y_test, preds)\n",
    "ax.plot([y_test.min(), y_test.max()], \n",
    "        [y_test.min(), y_test.max()], '--', lw=3, color='r')\n",
    "ax.set_xlabel('True Value')\n",
    "ax.set_ylabel('Predicted')\n",
    "plt.show()"
   ]
  },
  {
   "cell_type": "code",
   "execution_count": null,
   "metadata": {
    "collapsed": true
   },
   "outputs": [],
   "source": []
  }
 ],
 "metadata": {
  "anaconda-cloud": {},
  "kernelspec": {
   "display_name": "Python [conda root]",
   "language": "python",
   "name": "conda-root-py"
  },
  "language_info": {
   "codemirror_mode": {
    "name": "ipython",
    "version": 3
   },
   "file_extension": ".py",
   "mimetype": "text/x-python",
   "name": "python",
   "nbconvert_exporter": "python",
   "pygments_lexer": "ipython3",
   "version": "3.5.2"
  }
 },
 "nbformat": 4,
 "nbformat_minor": 1
}
