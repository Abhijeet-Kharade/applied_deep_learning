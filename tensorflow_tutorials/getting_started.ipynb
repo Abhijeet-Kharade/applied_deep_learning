{
 "cells": [
  {
   "cell_type": "markdown",
   "metadata": {},
   "source": [
    "# Getting Started with Tensorflow\n",
    "\n",
    "Tensorflow is a framework for defining and running computational graphs. It's primarily used for deep learning although it can also be used for other numerical computing and machine learning tasks.  "
   ]
  },
  {
   "cell_type": "code",
   "execution_count": 1,
   "metadata": {
    "collapsed": true
   },
   "outputs": [],
   "source": [
    "import tensorflow as tf"
   ]
  },
  {
   "cell_type": "markdown",
   "metadata": {},
   "source": [
    "## Tensorflow Graphs and Sessions\n",
    "\n",
    "Tensorflow uses computational graphs to run it's functions and models. Graphs are defined by their operations and variables.\n",
    "\n",
    "Sessions are used to run the a graph. They create the connection between the python program and the C++ TF runtime. Setting up the graph, variables and operations can be done outside the session. But, nothing will be run until it's connected to the session and we evaluate the expression that we created."
   ]
  },
  {
   "cell_type": "code",
   "execution_count": 2,
   "metadata": {
    "collapsed": false
   },
   "outputs": [
    {
     "name": "stdout",
     "output_type": "stream",
     "text": [
      "Tensorflow Output: 66240\n",
      "Python Output: 66240\n"
     ]
    }
   ],
   "source": [
    "# set up two variables\n",
    "x = tf.Variable(32, name='x')\n",
    "y = tf.Variable(45, name='y')\n",
    "\n",
    "# set up some expression to perform on these variables\n",
    "f = x*y + y*x*y\n",
    "\n",
    "with tf.Session() as sess:\n",
    "    x.initializer.run()\n",
    "    y.initializer.run()\n",
    "    result = f.eval()\n",
    "    print('Tensorflow Output:', result)\n",
    "    \n",
    "print('Python Output:', 32*45 + 45*32*45)"
   ]
  },
  {
   "cell_type": "markdown",
   "metadata": {},
   "source": [
    "# Exercise: \n",
    "\n",
    "Use placeholders to create a system that can add any two numbers. Since we will primarily be doing machine learning with TensorFlow we don't necessarily want the data in our graph at the start. We want to have buckets that we can put data into and get some result. Set up the same system as above except this time using placeholders so that we can pass values into it."
   ]
  },
  {
   "cell_type": "code",
   "execution_count": null,
   "metadata": {
    "collapsed": true
   },
   "outputs": [],
   "source": []
  },
  {
   "cell_type": "markdown",
   "metadata": {},
   "source": [
    "### Answer "
   ]
  },
  {
   "cell_type": "code",
   "execution_count": 3,
   "metadata": {
    "collapsed": false
   },
   "outputs": [
    {
     "name": "stdout",
     "output_type": "stream",
     "text": [
      "[66240]\n"
     ]
    }
   ],
   "source": [
    "x = tf.placeholder(tf.int32, shape=(1,), name='x_phldr')\n",
    "y = tf.placeholder(tf.int32, shape=(1,), name='y_phldr')\n",
    "z = x*y + y*x*y\n",
    "\n",
    "with tf.Session() as sess:\n",
    "    result = sess.run(z, feed_dict={x:[32], y:[45]})\n",
    "    \n",
    "print(result)"
   ]
  },
  {
   "cell_type": "markdown",
   "metadata": {},
   "source": [
    "## Basic Linear Regression in Tensorflow\n",
    "\n",
    "Running a basic linear regression in Tensorflow with built in optimizers and gradient descent algorithms."
   ]
  },
  {
   "cell_type": "code",
   "execution_count": 4,
   "metadata": {
    "collapsed": true
   },
   "outputs": [],
   "source": [
    "import numpy as np\n",
    "from sklearn.datasets import fetch_california_housing\n",
    "from sklearn.model_selection import train_test_split\n",
    "\n",
    "%matplotlib inline\n",
    "import matplotlib.pyplot as plt\n",
    "\n",
    "def normalize(data):\n",
    "    mean = np.mean(data, axis=0)\n",
    "    std = np.std(data, axis=0)\n",
    "    return (data - mean) / std"
   ]
  },
  {
   "cell_type": "markdown",
   "metadata": {},
   "source": [
    "Import the california housing dataset, view the shapes."
   ]
  },
  {
   "cell_type": "code",
   "execution_count": 5,
   "metadata": {
    "collapsed": false
   },
   "outputs": [
    {
     "name": "stdout",
     "output_type": "stream",
     "text": [
      "['MedInc', 'HouseAge', 'AveRooms', 'AveBedrms', 'Population', 'AveOccup', 'Latitude', 'Longitude']\n",
      "(17683, 9)\n",
      "(17683, 1)\n"
     ]
    }
   ],
   "source": [
    "housing = fetch_california_housing()\n",
    "\n",
    "# load the data into numpy arrays\n",
    "housing_features = housing.data\n",
    "housing_targets = housing.target\n",
    "\n",
    "n, f_dim = housing_features.shape\n",
    "\n",
    "# normalize the features\n",
    "housing_features= normalize(housing_features)\n",
    "\n",
    "# add bias\n",
    "housing_features = np.c_[np.ones((n, 1)), housing_features]\n",
    "\n",
    "housing_features = housing_features[housing_targets < 5]\n",
    "housing_targets = housing_targets[housing_targets < 5]\n",
    "\n",
    "# reshape targets to TF expectation\n",
    "housing_targets = np.expand_dims(housing_targets, 1)\n",
    "\n",
    "X_train, X_test, y_train, y_test = train_test_split(housing_features,\n",
    "                                                    housing_targets,\n",
    "                                                    test_size=0.1)\n",
    "\n",
    "print(housing.feature_names)\n",
    "print(X_train.shape)\n",
    "print(y_train.shape)"
   ]
  },
  {
   "cell_type": "code",
   "execution_count": 6,
   "metadata": {
    "collapsed": false
   },
   "outputs": [],
   "source": [
    "LR = 0.005\n",
    "EPOCHS = 5000\n",
    "# save all of the losses\n",
    "losses = []\n",
    "\n",
    "X = tf.placeholder(tf.float32, shape=(None, f_dim+1), name='X')\n",
    "y = tf.placeholder(tf.float32, shape=(None, 1), name='y')\n",
    "W = tf.Variable(tf.ones([f_dim+1, 1]))\n",
    "\n",
    "# after launching a session, run the initializer to initialize all of\n",
    "# the variables in the graph\n",
    "init = tf.global_variables_initializer()\n",
    "\n",
    "# set up operation to get the output from the regression, \n",
    "# dot product of weight  and features\n",
    "y_pred = tf.matmul(X, W)\n",
    "\n",
    "# calculate the mean squared error\n",
    "error = y_pred - y\n",
    "loss = tf.reduce_mean(tf.square(error), name='mse')\n",
    "\n",
    "# use TF's built in autograd features to run gradient descent\n",
    "train_step = tf.train.GradientDescentOptimizer(LR).minimize(loss)"
   ]
  },
  {
   "cell_type": "code",
   "execution_count": 7,
   "metadata": {
    "collapsed": false,
    "scrolled": false
   },
   "outputs": [
    {
     "name": "stdout",
     "output_type": "stream",
     "text": [
      "Epoch: 0 Current loss: 7.61533 Test loss: 4.51717\n",
      "Epoch: 100 Current loss: 1.44861 Test loss: 1.17409\n",
      "Epoch: 200 Current loss: 0.853819 Test loss: 0.78038\n",
      "Epoch: 300 Current loss: 0.726148 Test loss: 0.678566\n",
      "Epoch: 400 Current loss: 0.670546 Test loss: 0.629114\n",
      "Epoch: 500 Current loss: 0.632916 Test loss: 0.593122\n",
      "Epoch: 600 Current loss: 0.602731 Test loss: 0.562983\n",
      "Epoch: 700 Current loss: 0.577233 Test loss: 0.536929\n",
      "Epoch: 800 Current loss: 0.555357 Test loss: 0.514303\n",
      "Epoch: 900 Current loss: 0.536489 Test loss: 0.494669\n",
      "Epoch: 1000 Current loss: 0.520178 Test loss: 0.477647\n",
      "Epoch: 1100 Current loss: 0.506055 Test loss: 0.462898\n",
      "Epoch: 1200 Current loss: 0.493811 Test loss: 0.450119\n",
      "Epoch: 1300 Current loss: 0.483181 Test loss: 0.439043\n",
      "Epoch: 1400 Current loss: 0.473942 Test loss: 0.429439\n",
      "Epoch: 1500 Current loss: 0.465899 Test loss: 0.421106\n",
      "Epoch: 1600 Current loss: 0.458888 Test loss: 0.41387\n",
      "Epoch: 1700 Current loss: 0.452769 Test loss: 0.407584\n",
      "Epoch: 1800 Current loss: 0.447419 Test loss: 0.402118\n",
      "Epoch: 1900 Current loss: 0.442734 Test loss: 0.397361\n",
      "Epoch: 2000 Current loss: 0.438626 Test loss: 0.39322\n",
      "Epoch: 2100 Current loss: 0.435018 Test loss: 0.389611\n",
      "Epoch: 2200 Current loss: 0.431843 Test loss: 0.386464\n",
      "Epoch: 2300 Current loss: 0.429046 Test loss: 0.383719\n",
      "Epoch: 2400 Current loss: 0.426576 Test loss: 0.381323\n",
      "Epoch: 2500 Current loss: 0.424393 Test loss: 0.37923\n",
      "Epoch: 2600 Current loss: 0.422459 Test loss: 0.377401\n",
      "Epoch: 2700 Current loss: 0.420743 Test loss: 0.375803\n",
      "Epoch: 2800 Current loss: 0.419219 Test loss: 0.374406\n",
      "Epoch: 2900 Current loss: 0.417862 Test loss: 0.373185\n",
      "Epoch: 3000 Current loss: 0.416652 Test loss: 0.372117\n",
      "Epoch: 3100 Current loss: 0.415571 Test loss: 0.371183\n",
      "Epoch: 3200 Current loss: 0.414605 Test loss: 0.370367\n",
      "Epoch: 3300 Current loss: 0.41374 Test loss: 0.369654\n",
      "Epoch: 3400 Current loss: 0.412963 Test loss: 0.369032\n",
      "Epoch: 3500 Current loss: 0.412265 Test loss: 0.368489\n",
      "Epoch: 3600 Current loss: 0.411638 Test loss: 0.368016\n",
      "Epoch: 3700 Current loss: 0.411071 Test loss: 0.367605\n",
      "Epoch: 3800 Current loss: 0.410561 Test loss: 0.367248\n",
      "Epoch: 3900 Current loss: 0.410099 Test loss: 0.366938\n",
      "Epoch: 4000 Current loss: 0.409682 Test loss: 0.366671\n",
      "Epoch: 4100 Current loss: 0.409305 Test loss: 0.36644\n",
      "Epoch: 4200 Current loss: 0.408962 Test loss: 0.366242\n",
      "Epoch: 4300 Current loss: 0.408651 Test loss: 0.366072\n",
      "Epoch: 4400 Current loss: 0.408368 Test loss: 0.365929\n",
      "Epoch: 4500 Current loss: 0.408111 Test loss: 0.365807\n",
      "Epoch: 4600 Current loss: 0.407877 Test loss: 0.365705\n",
      "Epoch: 4700 Current loss: 0.407664 Test loss: 0.365621\n",
      "Epoch: 4800 Current loss: 0.407469 Test loss: 0.365552\n",
      "Epoch: 4900 Current loss: 0.407292 Test loss: 0.365497\n"
     ]
    }
   ],
   "source": [
    "saver = tf.train.Saver()\n",
    "\n",
    "with tf.Session() as sess:\n",
    "    sess.run(init)\n",
    "    \n",
    "    for e in range(EPOCHS):\n",
    "        if e % 100 == 0:\n",
    "            print(\"Epoch:\", e, \n",
    "                  \"Current loss:\", \n",
    "                  sess.run(loss, feed_dict={X: X_train, y: y_train}), \n",
    "                  \"Test loss:\",\n",
    "                 sess.run(loss, feed_dict={X: X_test, y: y_test}))\n",
    "            \n",
    "        sess.run(train_step, feed_dict={X: X_train, y: y_train})\n",
    "        losses.append(sess.run(loss, feed_dict={X: X_train, y: y_train}))\n",
    "        \n",
    "    best_weights = W.eval()\n",
    "    save_path = saver.save(sess, '/tmp/linear_regression.ckpt')"
   ]
  },
  {
   "cell_type": "code",
   "execution_count": 8,
   "metadata": {
    "collapsed": false
   },
   "outputs": [
    {
     "data": {
      "image/png": "[encoded data removed]",
      "text/plain": [
       "<matplotlib.figure.Figure at 0x125ee79e8>"
      ]
     },
     "metadata": {},
     "output_type": "display_data"
    }
   ],
   "source": [
    "plt.plot(range(len(losses)),np.array(losses))\n",
    "plt.axis([0,EPOCHS,np.min(losses),np.max(losses)])\n",
    "plt.show()"
   ]
  },
  {
   "cell_type": "markdown",
   "metadata": {},
   "source": [
    "# Exercise\n",
    "\n",
    "### Making predictions on our test data\n",
    "\n",
    "Now that we have our trained model, we can load it up and make predictions on our test set. Load the model from the stored state, and run the prediction function with a TensorFlow Session on the testing data."
   ]
  },
  {
   "cell_type": "code",
   "execution_count": 9,
   "metadata": {
    "collapsed": false
   },
   "outputs": [
    {
     "name": "stdout",
     "output_type": "stream",
     "text": [
      "INFO:tensorflow:Restoring parameters from /tmp/linear_regression.ckpt\n"
     ]
    }
   ],
   "source": [
    "# best weight values are saved in the checkpoint\n",
    "with tf.Session() as sess:\n",
    "    saver.restore(sess, '/tmp/linear_regression.ckpt')\n",
    "    # fill in the rest below"
   ]
  },
  {
   "cell_type": "markdown",
   "metadata": {},
   "source": [
    "### Answer"
   ]
  },
  {
   "cell_type": "code",
   "execution_count": 10,
   "metadata": {
    "collapsed": false,
    "scrolled": false
   },
   "outputs": [
    {
     "name": "stdout",
     "output_type": "stream",
     "text": [
      "INFO:tensorflow:Restoring parameters from /tmp/linear_regression.ckpt\n",
      "0.365453\n"
     ]
    }
   ],
   "source": [
    "# best weight values are saved in the checkpoint\n",
    "with tf.Session() as sess:\n",
    "    saver.restore(sess, '/tmp/linear_regression.ckpt')\n",
    "    preds = sess.run(y_pred, feed_dict={X: X_test})\n",
    "    print(sess.run(loss, feed_dict={X: X_test, y: y_test}))"
   ]
  },
  {
   "cell_type": "code",
   "execution_count": 11,
   "metadata": {
    "collapsed": false
   },
   "outputs": [
    {
     "data": {
      "image/png": "[encoded data removed]",
      "text/plain": [
       "<matplotlib.figure.Figure at 0x12717f438>"
      ]
     },
     "metadata": {},
     "output_type": "display_data"
    }
   ],
   "source": [
    "fig, ax = plt.subplots()\n",
    "ax.scatter(y_test, preds)\n",
    "ax.plot([y_test.min(), y_test.max()], \n",
    "        [y_test.min(), y_test.max()], '--', lw=3, color='r')\n",
    "ax.set_xlabel('True Value')\n",
    "ax.set_ylabel('Predicted')\n",
    "plt.show()"
   ]
  },
  {
   "cell_type": "code",
   "execution_count": null,
   "metadata": {
    "collapsed": true
   },
   "outputs": [],
   "source": []
  }
 ],
 "metadata": {
  "anaconda-cloud": {},
  "kernelspec": {
   "display_name": "Python [conda root]",
   "language": "python",
   "name": "conda-root-py"
  },
  "language_info": {
   "codemirror_mode": {
    "name": "ipython",
    "version": 3
   },
   "file_extension": ".py",
   "mimetype": "text/x-python",
   "name": "python",
   "nbconvert_exporter": "python",
   "pygments_lexer": "ipython3",
   "version": "3.5.2"
  }
 },
 "nbformat": 4,
 "nbformat_minor": 1
}
