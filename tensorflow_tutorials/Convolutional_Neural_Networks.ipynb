{
 "cells": [
  {
   "cell_type": "code",
   "execution_count": 1,
   "metadata": {
    "collapsed": true
   },
   "outputs": [],
   "source": [
    "import numpy as np\n",
    "import tensorflow as tf\n",
    "\n",
    "%matplotlib inline\n",
    "import matplotlib.pyplot as plt"
   ]
  },
  {
   "cell_type": "markdown",
   "metadata": {},
   "source": [
    "# Convolutional Neural Networks\n",
    "\n",
    "ConvNets are particularly well suited for data that has a spatial component to it. Things like images, audio, and text. Load the provided MNIST dataset from Tensorflow, split into training and test, and then display a few examples."
   ]
  },
  {
   "cell_type": "code",
   "execution_count": 2,
   "metadata": {
    "collapsed": false
   },
   "outputs": [
    {
     "name": "stdout",
     "output_type": "stream",
     "text": [
      "Extracting MNIST_data/train-images-idx3-ubyte.gz\n",
      "Extracting MNIST_data/train-labels-idx1-ubyte.gz\n",
      "Extracting MNIST_data/t10k-images-idx3-ubyte.gz\n",
      "Extracting MNIST_data/t10k-labels-idx1-ubyte.gz\n",
      "(55000, 28, 28, 1)\n"
     ]
    },
    {
     "data": {
      "image/png": "[encoded data removed]",
      "text/plain": [
       "<matplotlib.figure.Figure at 0x1254d6828>"
      ]
     },
     "metadata": {},
     "output_type": "display_data"
    },
    {
     "data": {
      "image/png": "[encoded data removed]",
      "text/plain": [
       "<matplotlib.figure.Figure at 0x12ae000b8>"
      ]
     },
     "metadata": {},
     "output_type": "display_data"
    },
    {
     "data": {
      "image/png": "[encoded data removed]",
      "text/plain": [
       "<matplotlib.figure.Figure at 0x13127cd68>"
      ]
     },
     "metadata": {},
     "output_type": "display_data"
    },
    {
     "data": {
      "image/png": "[encoded data removed]",
      "text/plain": [
       "<matplotlib.figure.Figure at 0x1314844a8>"
      ]
     },
     "metadata": {},
     "output_type": "display_data"
    },
    {
     "data": {
      "image/png": "[encoded data removed]",
      "text/plain": [
       "<matplotlib.figure.Figure at 0x13128c898>"
      ]
     },
     "metadata": {},
     "output_type": "display_data"
    }
   ],
   "source": [
    "from tensorflow.examples.tutorials.mnist import input_data\n",
    "mnist = input_data.read_data_sets(\"MNIST_data\", one_hot=True)\n",
    "\n",
    "X_train = np.reshape(mnist.train.images, (-1, 28, 28, 1))\n",
    "y_train = np.asarray(mnist.train.labels, dtype=np.int32)\n",
    "\n",
    "X_test = np.reshape(mnist.test.images, (-1, 28, 28, 1))\n",
    "y_test = np.asarray(mnist.test.labels, dtype=np.int32)\n",
    "\n",
    "print(X_train.shape)\n",
    "\n",
    "for i in range(5):\n",
    "    plt.imshow(X_train[i].squeeze())\n",
    "    plt.show()"
   ]
  },
  {
   "cell_type": "markdown",
   "metadata": {},
   "source": [
    "Again, we will need placeholders for our batches when we use minibatch gradient descent."
   ]
  },
  {
   "cell_type": "code",
   "execution_count": 3,
   "metadata": {
    "collapsed": false
   },
   "outputs": [],
   "source": [
    "X = tf.placeholder(tf.float32, shape=(None, 28, 28, 1), name='X')\n",
    "y = tf.placeholder(tf.float32, shape=(None, 10), name='y')"
   ]
  },
  {
   "cell_type": "markdown",
   "metadata": {},
   "source": [
    "Set up our NN hyperparameters"
   ]
  },
  {
   "cell_type": "code",
   "execution_count": 4,
   "metadata": {
    "collapsed": true
   },
   "outputs": [],
   "source": [
    "LR = 0.001\n",
    "EPOCHS = 15\n",
    "BATCHSIZE = 32"
   ]
  },
  {
   "cell_type": "markdown",
   "metadata": {},
   "source": [
    "Much like our vanailly neural network example, we will create generic layer functions that take certain values as parameters. These functions will allow us to quickly and easily set up our Convolutional neural network with little redudancy. They will also allow us to rapidly prototype different architectures, if we wanted more or less layers in any region of the network"
   ]
  },
  {
   "cell_type": "code",
   "execution_count": 5,
   "metadata": {
    "collapsed": false
   },
   "outputs": [],
   "source": [
    "def conv_layer(X, in_dims, n_kernels, kernel_size, name, activation=None):\n",
    "    '''\n",
    "    Sets up a convolutional layer to be used to build a CNN. \n",
    "    \n",
    "    Parameters:\n",
    "    X: input data for the layer\n",
    "    in_dims: number of channels incoming to this layer\n",
    "    n_kernels: number of convolutional kernels to use in the layer\n",
    "    kernel_size: the size of each kernel as (kernel_size, kernel_size)\n",
    "    name: the name of the scope to be used with this layer\n",
    "    activation: the tensorflow nonlinearity to be used for each neuron\n",
    "    \n",
    "    Returns:\n",
    "    Tensorflow graph description representing the constructed layer\n",
    "    '''\n",
    "    with tf.name_scope(name):\n",
    "        init = tf.truncated_normal([kernel_size, kernel_size, in_dims, n_kernels], stddev=0.1)\n",
    "        W = tf.Variable(init, name='kernel_weights')\n",
    "        b = tf.Variable(tf.constant(0.1, shape=[n_kernels]))\n",
    "        conv = tf.nn.conv2d(X, W, strides=[1,1,1,1], padding='SAME') + b\n",
    "        if activation is not None:\n",
    "            return activation(conv)\n",
    "        else:\n",
    "            return conv\n",
    "        \n",
    "def max_pool(X, pool_size, name):\n",
    "    '''\n",
    "    Sets up a pooling layer to be used to build a CNN. \n",
    "    \n",
    "    Parameters:\n",
    "    X: input data for the layer\n",
    "    pool_size: the window size for the maxpool operation in (pool_size, pool_size)\n",
    "    name: the name of the scope to be used with this layer\n",
    "\n",
    "    Returns:\n",
    "    Tensorflow graph description representing the constructed layer\n",
    "    '''\n",
    "    with tf.name_scope(name):\n",
    "        return tf.nn.max_pool(X, ksize=[1, pool_size, pool_size, 1], \n",
    "                              strides=[1, pool_size, pool_size, 1], padding='SAME')\n",
    "        \n",
    "def dense_layer(X, n_units, name, activation=None):\n",
    "    '''\n",
    "    Sets up a hidden layer to be used to build a multilayer perceptron. \n",
    "    \n",
    "    Initializes the weights of the neurons using a normal distribution with\n",
    "    standard deviation equal to 2 / sqrt(input_dimension + number_neurons)\n",
    "    \n",
    "    Parameters:\n",
    "    X: input data for the layer\n",
    "    n_units: number of neurons to use in the layer\n",
    "    name: the name of the scope to be used with this layer\n",
    "    activation: the tensorflow nonlinearity to be used for each neuron\n",
    "    \n",
    "    Returns:\n",
    "    Tensorflow graph description representing the constructed layer\n",
    "    '''\n",
    "    with tf.name_scope(name):\n",
    "        n_inputs = int(X.get_shape()[1])\n",
    "        stddev = 2 / np.sqrt(n_inputs + n_units)\n",
    "        init = tf.truncated_normal((n_inputs, n_units), stddev=stddev)\n",
    "        W = tf.Variable(init, name='hidden_weights')\n",
    "        b = tf.Variable(tf.zeros([n_units]), name='bias')\n",
    "        Z = tf.matmul(X, W) + b\n",
    "        if activation is not None:\n",
    "            return activation(Z)\n",
    "        else:\n",
    "            return Z"
   ]
  },
  {
   "cell_type": "markdown",
   "metadata": {},
   "source": [
    "# Exercise\n",
    "\n",
    "Build a convolutional neural network using the layer definitions that we created above. Try to come up with an architecture to maximize test set accuracy."
   ]
  },
  {
   "cell_type": "code",
   "execution_count": null,
   "metadata": {
    "collapsed": true
   },
   "outputs": [],
   "source": []
  },
  {
   "cell_type": "markdown",
   "metadata": {},
   "source": [
    "### Solution"
   ]
  },
  {
   "cell_type": "code",
   "execution_count": 6,
   "metadata": {
    "collapsed": false
   },
   "outputs": [],
   "source": [
    "# build the network\n",
    "with tf.name_scope('cnn'):\n",
    "    conv_1 = conv_layer(X, in_dims=1, n_kernels=8, kernel_size=5, name='conv_1', activation=tf.nn.relu)\n",
    "    pool_1 = max_pool(conv_1, pool_size=2, name='pool_1')\n",
    "    \n",
    "    conv_2 = conv_layer(pool_1, in_dims=8, n_kernels=16, kernel_size=5, name='conv_2', activation=tf.nn.relu)\n",
    "    pool_2 = max_pool(conv_2, pool_size=2, name='pool_2')\n",
    "    \n",
    "    flat = tf.reshape(pool_2, [-1, 7*7*16])\n",
    "    \n",
    "    dense = dense_layer(flat, 32, name='dense1', activation=tf.nn.relu)\n",
    "    y_logits = dense_layer(dense, 10, name='output')"
   ]
  },
  {
   "cell_type": "markdown",
   "metadata": {},
   "source": [
    "Set up our loss and training algorithms. We'll use `Adam` here, which is a tweak on the way that stochastic gradient descent works."
   ]
  },
  {
   "cell_type": "code",
   "execution_count": 7,
   "metadata": {
    "collapsed": false
   },
   "outputs": [],
   "source": [
    "with tf.name_scope('loss'):\n",
    "    loss = tf.reduce_mean(tf.nn.softmax_cross_entropy_with_logits(labels=y, logits=y_logits))\n",
    "    \n",
    "with tf.name_scope('train'):\n",
    "    train_step = tf.train.AdamOptimizer(LR).minimize(loss)\n",
    "    \n",
    "with tf.name_scope('accuracy'):\n",
    "    corrects = tf.equal(tf.argmax(tf.nn.softmax(y_logits),1), tf.argmax(y_test, 1))\n",
    "    acc = tf.reduce_mean(tf.cast(corrects, tf.float32))"
   ]
  },
  {
   "cell_type": "markdown",
   "metadata": {},
   "source": [
    "Train our network, using essentially the same methodology as the other notebooks. "
   ]
  },
  {
   "cell_type": "code",
   "execution_count": 8,
   "metadata": {
    "collapsed": false
   },
   "outputs": [
    {
     "name": "stdout",
     "output_type": "stream",
     "text": [
      "Epoch: 0 Current loss: 2.30817 Test loss: 2.31141 Test Accuracy: 0.1863\n",
      "Epoch: 5 Current loss: 0.0235275 Test loss: 0.038747 Test Accuracy: 0.9882\n",
      "Epoch: 10 Current loss: 0.013234 Test loss: 0.0389561 Test Accuracy: 0.9895\n"
     ]
    }
   ],
   "source": [
    "saver = tf.train.Saver()\n",
    "init = tf.global_variables_initializer()\n",
    "\n",
    "losses = []\n",
    "n_samples = X_train.shape[0]\n",
    "with tf.Session() as sess:\n",
    "    sess.run(init)\n",
    "    \n",
    "    for e in range(EPOCHS):\n",
    "        if e % 5 == 0:\n",
    "            print(\"Epoch:\", e, \n",
    "                  \"Current loss:\", \n",
    "                  sess.run(loss, feed_dict={X: X_train, y: y_train}), \n",
    "                  \"Test loss:\",\n",
    "                  sess.run(loss, feed_dict={X: X_test, y: y_test}),\n",
    "                  \"Test Accuracy:\",\n",
    "                  sess.run(acc, feed_dict={X: X_test, y: y_test}))\n",
    "            \n",
    "        for i in range((n_samples + BATCHSIZE - 1) // BATCHSIZE):\n",
    "            sl = slice(i * BATCHSIZE, (i+1) * BATCHSIZE)\n",
    "            X_b = X_train[sl]\n",
    "            y_b = y_train[sl]\n",
    "            sess.run(train_step, feed_dict={X: X_b, y: y_b})\n",
    "            losses.append(sess.run(loss, feed_dict={X: X_b, y: y_b}))\n",
    "        \n",
    "    save_path = saver.save(sess, '/tmp/cnn_mnist.ckpt')"
   ]
  },
  {
   "cell_type": "code",
   "execution_count": 9,
   "metadata": {
    "collapsed": false
   },
   "outputs": [
    {
     "data": {
      "image/png": "[encoded data removed]",
      "text/plain": [
       "<matplotlib.figure.Figure at 0x1254c75c0>"
      ]
     },
     "metadata": {},
     "output_type": "display_data"
    }
   ],
   "source": [
    "plt.plot(np.array(losses))\n",
    "plt.show()"
   ]
  },
  {
   "cell_type": "markdown",
   "metadata": {},
   "source": [
    "Collect the predictions for the test set."
   ]
  },
  {
   "cell_type": "code",
   "execution_count": 10,
   "metadata": {
    "collapsed": false
   },
   "outputs": [
    {
     "name": "stdout",
     "output_type": "stream",
     "text": [
      "INFO:tensorflow:Restoring parameters from /tmp/cnn_mnist.ckpt\n"
     ]
    }
   ],
   "source": [
    "# best weight values are saved in the checkpoint\n",
    "with tf.Session() as sess:\n",
    "    saver.restore(sess, '/tmp/cnn_mnist.ckpt')\n",
    "    preds = sess.run(tf.nn.softmax(y_logits), feed_dict={X: X_test})\n",
    "    pred_val = tf.argmax(preds, 1).eval()"
   ]
  },
  {
   "cell_type": "markdown",
   "metadata": {},
   "source": [
    "Display some of the images and their predicted values."
   ]
  },
  {
   "cell_type": "code",
   "execution_count": 11,
   "metadata": {
    "collapsed": false
   },
   "outputs": [
    {
     "data": {
      "image/png": "[encoded data removed]",
      "text/plain": [
       "<matplotlib.figure.Figure at 0x1254c78d0>"
      ]
     },
     "metadata": {},
     "output_type": "display_data"
    },
    {
     "data": {
      "image/png": "[encoded data removed]",
      "text/plain": [
       "<matplotlib.figure.Figure at 0x131474160>"
      ]
     },
     "metadata": {},
     "output_type": "display_data"
    },
    {
     "data": {
      "image/png": "[encoded data removed]",
      "text/plain": [
       "<matplotlib.figure.Figure at 0x131482518>"
      ]
     },
     "metadata": {},
     "output_type": "display_data"
    },
    {
     "data": {
      "image/png": "[encoded data removed]",
      "text/plain": [
       "<matplotlib.figure.Figure at 0x12954c940>"
      ]
     },
     "metadata": {},
     "output_type": "display_data"
    },
    {
     "data": {
      "image/png": "[encoded data removed]",
      "text/plain": [
       "<matplotlib.figure.Figure at 0x12a273278>"
      ]
     },
     "metadata": {},
     "output_type": "display_data"
    }
   ],
   "source": [
    "for j in range(5):\n",
    "    plt.imshow(X_test[j].squeeze())\n",
    "    plt.title('Predicted: {}'.format(pred_val[j]))\n",
    "    plt.show()"
   ]
  },
  {
   "cell_type": "code",
   "execution_count": null,
   "metadata": {
    "collapsed": true
   },
   "outputs": [],
   "source": []
  }
 ],
 "metadata": {
  "kernelspec": {
   "display_name": "Python [conda root]",
   "language": "python",
   "name": "conda-root-py"
  },
  "language_info": {
   "codemirror_mode": {
    "name": "ipython",
    "version": 3
   },
   "file_extension": ".py",
   "mimetype": "text/x-python",
   "name": "python",
   "nbconvert_exporter": "python",
   "pygments_lexer": "ipython3",
   "version": "3.5.2"
  }
 },
 "nbformat": 4,
 "nbformat_minor": 1
}
