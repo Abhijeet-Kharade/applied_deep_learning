{
 "cells": [
  {
   "cell_type": "code",
   "execution_count": 1,
   "metadata": {
    "collapsed": false
   },
   "outputs": [
    {
     "name": "stderr",
     "output_type": "stream",
     "text": [
      "/Users/florianmuellerklein/anaconda3/lib/python3.5/importlib/_bootstrap.py:222: RuntimeWarning: compiletime version 3.6 of module 'tensorflow.python.framework.fast_tensor_util' does not match runtime version 3.5\n",
      "  return f(*args, **kwds)\n",
      "/Users/florianmuellerklein/anaconda3/lib/python3.5/site-packages/h5py/__init__.py:34: FutureWarning: Conversion of the second argument of issubdtype from `float` to `np.floating` is deprecated. In future, it will be treated as `np.float64 == np.dtype(float).type`.\n",
      "  from ._conv import register_converters as _register_converters\n"
     ]
    }
   ],
   "source": [
    "import numpy as np\n",
    "import pandas as pd\n",
    "import tensorflow as tf\n",
    "\n",
    "%matplotlib inline\n",
    "import matplotlib.pyplot as plt\n",
    "\n",
    "from sklearn.utils import shuffle\n",
    "from sklearn.preprocessing import LabelBinarizer\n",
    "from sklearn.model_selection import train_test_split"
   ]
  },
  {
   "cell_type": "markdown",
   "metadata": {},
   "source": [
    "# Convolutional Neural Networks\n",
    "\n",
    "ConvNets are particularly well suited for data that has a spatial component to it. Things like images, audio, and text. Load the provided MNIST dataset from Tensorflow, split into training and test, and then display a few examples."
   ]
  },
  {
   "cell_type": "code",
   "execution_count": 2,
   "metadata": {
    "collapsed": true
   },
   "outputs": [],
   "source": [
    "class_dict = {0: 't-shirt',\n",
    "              1: 'trouser',\n",
    "              2: 'pullover',\n",
    "              3: 'dress',\n",
    "              4: 'coat',\n",
    "              5: 'sandal',\n",
    "              6: 'shirt',\n",
    "              7: 'sneaker',\n",
    "              8: 'bag',\n",
    "              9: 'ankle boot'}"
   ]
  },
  {
   "cell_type": "code",
   "execution_count": 3,
   "metadata": {
    "collapsed": false
   },
   "outputs": [
    {
     "name": "stdout",
     "output_type": "stream",
     "text": [
      "(48000, 28, 28, 1) (48000, 10) (12000, 28, 28, 1) (12000, 10)\n"
     ]
    },
    {
     "data": {
      "image/png": "[encoded data removed]",
      "text/plain": [
       "<matplotlib.figure.Figure at 0x104f5bfd0>"
      ]
     },
     "metadata": {},
     "output_type": "display_data"
    },
    {
     "data": {
      "image/png": "[encoded data removed]",
      "text/plain": [
       "<matplotlib.figure.Figure at 0x1a22e9e780>"
      ]
     },
     "metadata": {},
     "output_type": "display_data"
    },
    {
     "data": {
      "image/png": "[encoded data removed]",
      "text/plain": [
       "<matplotlib.figure.Figure at 0x1a22fbf240>"
      ]
     },
     "metadata": {},
     "output_type": "display_data"
    },
    {
     "data": {
      "image/png": "[encoded data removed]",
      "text/plain": [
       "<matplotlib.figure.Figure at 0x1a22e96ef0>"
      ]
     },
     "metadata": {},
     "output_type": "display_data"
    },
    {
     "data": {
      "image/png": "[encoded data removed]",
      "text/plain": [
       "<matplotlib.figure.Figure at 0x1a23337cf8>"
      ]
     },
     "metadata": {},
     "output_type": "display_data"
    }
   ],
   "source": [
    "lblr = LabelBinarizer()\n",
    "\n",
    "data_train = pd.read_csv('Fashion_MNIST/fashion-mnist_train.zip', compression='zip')\n",
    "data_test = pd.read_csv('Fashion_MNIST/fashion-mnist_test.zip', compression='zip')\n",
    "\n",
    "img_rows, img_cols = 28, 28\n",
    "input_shape = (img_rows, img_cols, 1)\n",
    "\n",
    "# get the training data from the csv\n",
    "X = np.array(data_train.iloc[:, 1:])\n",
    "y = lblr.fit_transform(np.array(data_train.iloc[:, 0]))\n",
    "\n",
    "# split the training data into train and validation sets\n",
    "X_train, X_val, y_train, y_val = train_test_split(X, y, test_size=0.2, random_state=13)\n",
    "\n",
    "# get the test data from the csv\n",
    "X_test = np.array(data_test.iloc[:, 1:])\n",
    "y_test = lblr.transform(np.array(data_test.iloc[:, 0]))\n",
    "\n",
    "# reshape the data so the images are 2d matrices\n",
    "X_train = X_train.reshape(X_train.shape[0], img_rows, img_cols, 1)\n",
    "X_test = X_test.reshape(X_test.shape[0], img_rows, img_cols, 1)\n",
    "X_val = X_val.reshape(X_val.shape[0], img_rows, img_cols, 1)\n",
    "\n",
    "# make sure the images are all float32 and with values between 0 and 1\n",
    "X_train = X_train.astype('float32')\n",
    "X_test = X_test.astype('float32')\n",
    "X_val = X_val.astype('float32')\n",
    "X_train /= 255\n",
    "X_test /= 255\n",
    "X_val /= 255\n",
    "\n",
    "# check the shapes\n",
    "print(X_train.shape, y_train.shape, X_val.shape, y_val.shape)\n",
    "\n",
    "# display some of the images with the class as title, make sure we loaded things correctly\n",
    "for i in range(5):\n",
    "    plt.title(class_dict[lblr.inverse_transform(y_train[i].reshape(1,10))[0]])\n",
    "    plt.imshow(X_train[i].squeeze())\n",
    "    plt.show()"
   ]
  },
  {
   "cell_type": "markdown",
   "metadata": {},
   "source": [
    "Again, we will need placeholders for our batches when we use minibatch gradient descent."
   ]
  },
  {
   "cell_type": "code",
   "execution_count": 4,
   "metadata": {
    "collapsed": false
   },
   "outputs": [],
   "source": [
    "with tf.name_scope('input_placeholder'):\n",
    "    X = tf.placeholder(tf.float32, shape=(None, 28, 28, 1), name='X')\n",
    "    \n",
    "with tf.name_scope('targets_placeholder'):\n",
    "    y = tf.placeholder(tf.float32, shape=(None, 10), name='y')"
   ]
  },
  {
   "cell_type": "markdown",
   "metadata": {},
   "source": [
    "Set up our NN hyperparameters"
   ]
  },
  {
   "cell_type": "code",
   "execution_count": 5,
   "metadata": {
    "collapsed": true
   },
   "outputs": [],
   "source": [
    "LR = 0.001\n",
    "EPOCHS = 15\n",
    "BATCHSIZE = 32"
   ]
  },
  {
   "cell_type": "markdown",
   "metadata": {},
   "source": [
    "Much like our vanailly neural network example, we will create generic layer functions that take certain values as parameters. These functions will allow us to quickly and easily set up our Convolutional neural network with little redudancy. They will also allow us to rapidly prototype different architectures, if we wanted more or less layers in any region of the network\n",
    "\n",
    "\n",
    "### Convolutional Layers\n",
    "\n",
    "The operation that the kernels perform in a convolutional neural network is a bit different than the typical matrix multiplies that we've worked with previously. Luckily, TensorFlow has a built in convolution operation, `tf.nn.conv2d`, within the `nn` module. After setting up our weights and our input data we can just use that `conv2d` operation in place of the `matmul` operation that we used previously. The weight matrix for our convoutional layers will have shape `[kernel_height, kernel_width, in_channels, out_channels]`. The kernel size parameters are self explainatory. We have to define `in_channels` because the kernels will act on each channel of the incoming data, for an image with 3 channels (RGB) the kernel will act on each of the channels concurrently. In other words, the kernel is as 'deep' as the number of channels in the tensor that it's acting on.  The `out_channels` parameter will take care of how many kernels we have in our specific layer. If we set our convolution layer to have 16 kernels then this parameter will be set to 16, and we will end up with 16 features maps after this operation.\n",
    "\n",
    "### Pooling Layers\n",
    "\n",
    "The pooling operation provided in the `tf.nn` module is mostly straight forward. The `tf.nn.max_pool` function simply takes some input and does the max pool operation with the desired window size and strides. However, the window size and strides parameters take four values and we typically only talk about two values for each. For the window we think about the height and the width, and for the strides we think about the jumping distance on two axis. This is because the data that flows through these CNNs exists as 4d tensors so we need to account for each dimension in the operations. So it's customary to set the pooling size in this way, `[1, window_height, window_width, 1]`, with the ones representing the batch and channels dimensions of the image tensor (we dont' want to pool over those dimensions). The strides will be similarly defined `[1, travel_distance_x, travel_distance_y, 1]`. "
   ]
  },
  {
   "cell_type": "code",
   "execution_count": 6,
   "metadata": {
    "collapsed": false
   },
   "outputs": [],
   "source": [
    "def conv_layer(X, in_dims, n_kernels, kernel_size, name, activation=None):\n",
    "    '''\n",
    "    Sets up a convolutional layer to be used to build a CNN. \n",
    "    \n",
    "    Parameters:\n",
    "    X: input data for the layer\n",
    "    in_dims: number of channels incoming to this layer\n",
    "    n_kernels: number of convolutional kernels to use in the layer\n",
    "    kernel_size: the size of each kernel as (kernel_size, kernel_size)\n",
    "    name: the name of the scope to be used with this layer\n",
    "    activation: the tensorflow nonlinearity to be used for each neuron\n",
    "    \n",
    "    Returns:\n",
    "    Tensorflow graph description representing the constructed layer\n",
    "    '''\n",
    "    with tf.name_scope(name):\n",
    "        init = tf.truncated_normal([kernel_size, kernel_size, in_dims, n_kernels], stddev=0.1)\n",
    "        W = tf.Variable(init, name='kernel_weights_{}'.format(name))\n",
    "        b = tf.Variable(tf.constant(0.1, shape=[n_kernels]))\n",
    "        conv = tf.nn.conv2d(X, W, strides=[1,1,1,1], padding='SAME') + b\n",
    "        if activation is not None:\n",
    "            return activation(conv)\n",
    "        else:\n",
    "            return conv\n",
    "        \n",
    "def max_pool(X, pool_size, name):\n",
    "    '''\n",
    "    Sets up a pooling layer to be used to build a CNN. \n",
    "    \n",
    "    Parameters:\n",
    "    X: input data for the layer\n",
    "    pool_size: the window size for the maxpool operation in (pool_size, pool_size)\n",
    "    name: the name of the scope to be used with this layer\n",
    "\n",
    "    Returns:\n",
    "    Tensorflow graph description representing the constructed layer\n",
    "    '''\n",
    "    with tf.name_scope(name):\n",
    "        return tf.nn.max_pool(X, ksize=[1, pool_size, pool_size, 1], \n",
    "                              strides=[1, pool_size, pool_size, 1], padding='SAME')\n",
    "        \n",
    "def dense_layer(X, n_units, name, activation=None):\n",
    "    '''\n",
    "    Sets up a hidden layer to be used to build a multilayer perceptron. \n",
    "    \n",
    "    Initializes the weights of the neurons using a normal distribution with\n",
    "    standard deviation equal to 2 / sqrt(input_dimension + number_neurons)\n",
    "    \n",
    "    Parameters:\n",
    "    X: input data for the layer\n",
    "    n_units: number of neurons to use in the layer\n",
    "    name: the name of the scope to be used with this layer\n",
    "    activation: the tensorflow nonlinearity to be used for each neuron\n",
    "    \n",
    "    Returns:\n",
    "    Tensorflow graph description representing the constructed layer\n",
    "    '''\n",
    "    with tf.name_scope(name):\n",
    "        n_inputs = int(X.get_shape()[1])\n",
    "        stddev = 2 / np.sqrt(n_inputs + n_units)\n",
    "        init = tf.truncated_normal((n_inputs, n_units), stddev=stddev)\n",
    "        W = tf.Variable(init, name='hidden_weights_{}'.format(name))\n",
    "        b = tf.Variable(tf.zeros([n_units]), name='bias_{}'.format(name))\n",
    "        Z = tf.matmul(X, W) + b\n",
    "        if activation is not None:\n",
    "            return activation(Z)\n",
    "        else:\n",
    "            return Z\n",
    "        \n",
    "def output_layer(X, n_units, name):\n",
    "    '''\n",
    "    Same as dense layer but doesn't take an activation\n",
    "    '''\n",
    "    with tf.name_scope(name):\n",
    "        n_inputs = int(X.get_shape()[1])\n",
    "        stddev = 2 / np.sqrt(n_inputs + n_units)\n",
    "        init = tf.truncated_normal((n_inputs, n_units), stddev=stddev)\n",
    "        W = tf.Variable(init, name='hidden_weights_{}'.format(name))\n",
    "        b = tf.Variable(tf.zeros([n_units]), name='bias_{}'.format(name))\n",
    "        logits = tf.add(tf.matmul(X, W), b, name='logits_{}'.format(name))\n",
    "        \n",
    "    return logits"
   ]
  },
  {
   "cell_type": "markdown",
   "metadata": {},
   "source": [
    "# Exercise\n",
    "\n",
    "Build a convolutional neural network using the layer definitions that we created above. Try to come up with an architecture to maximize test set accuracy."
   ]
  },
  {
   "cell_type": "code",
   "execution_count": null,
   "metadata": {
    "collapsed": true
   },
   "outputs": [],
   "source": []
  },
  {
   "cell_type": "markdown",
   "metadata": {},
   "source": [
    "### Solution"
   ]
  },
  {
   "cell_type": "code",
   "execution_count": 7,
   "metadata": {
    "collapsed": false
   },
   "outputs": [],
   "source": [
    "# build the network\n",
    "with tf.name_scope('cnn'):\n",
    "    conv_1 = conv_layer(X, in_dims=1, n_kernels=8, kernel_size=5, name='conv_a', activation=tf.nn.relu)\n",
    "    pool_1 = max_pool(conv_1, pool_size=2, name='pool_a')\n",
    "    \n",
    "    conv_2 = conv_layer(pool_1, in_dims=8, n_kernels=16, kernel_size=5, name='conv_b', activation=tf.nn.relu)\n",
    "    pool_2 = max_pool(conv_2, pool_size=2, name='pool_b')\n",
    "    \n",
    "    # it's important to watch your tensor shapes when using CNNs because you have to flatten\n",
    "    # the representation for a dense layer, or you may downsample to a 0x0 feature map\n",
    "    flat = tf.reshape(pool_2, [-1, 7*7*16])\n",
    "    \n",
    "    dense = dense_layer(flat, 32, name='dense_layer', activation=tf.nn.relu)\n",
    "    y_logits = output_layer(dense, 10, name='output')"
   ]
  },
  {
   "cell_type": "markdown",
   "metadata": {},
   "source": [
    "Set up our loss and training algorithms. We'll use `Adam` here, which is a tweak on the way that stochastic gradient descent works."
   ]
  },
  {
   "cell_type": "code",
   "execution_count": null,
   "metadata": {
    "collapsed": false
   },
   "outputs": [
    {
     "name": "stdout",
     "output_type": "stream",
     "text": [
      "WARNING:tensorflow:From <ipython-input-8-04057fd3c98b>:2: softmax_cross_entropy_with_logits (from tensorflow.python.ops.nn_ops) is deprecated and will be removed in a future version.\n",
      "Instructions for updating:\n",
      "\n",
      "Future major versions of TensorFlow will allow gradients to flow\n",
      "into the labels input on backprop by default.\n",
      "\n",
      "See tf.nn.softmax_cross_entropy_with_logits_v2.\n",
      "\n"
     ]
    }
   ],
   "source": [
    "with tf.name_scope('loss'):\n",
    "    loss = tf.reduce_mean(tf.nn.softmax_cross_entropy_with_logits(labels=y, logits=y_logits))\n",
    "    \n",
    "with tf.name_scope('train'):\n",
    "    train_step = tf.train.AdamOptimizer(LR, name='adam_optimizer').minimize(loss)\n",
    "    \n",
    "with tf.name_scope('prediction'):\n",
    "    predictions = tf.nn.softmax(y_logits)\n",
    "    \n",
    "def accuracy(pred_probs, true_labels):\n",
    "    corrects = np.equal(np.argmax(pred_probs, 1), np.argmax(true_labels, 1))\n",
    "    return np.mean(corrects)"
   ]
  },
  {
   "cell_type": "markdown",
   "metadata": {},
   "source": [
    "Train our network, using essentially the same methodology as the other notebooks. "
   ]
  },
  {
   "cell_type": "code",
   "execution_count": null,
   "metadata": {
    "collapsed": false,
    "scrolled": false
   },
   "outputs": [
    {
     "name": "stdout",
     "output_type": "stream",
     "text": [
      "Epoch: 0 Current loss: 0.46887344 Valid loss: 0.42061028 Valid_acc: 0.8468333333333333\n",
      "Epoch: 3 Current loss: 0.1321899 Valid loss: 0.29472962 Valid_acc: 0.8915833333333333\n"
     ]
    }
   ],
   "source": [
    "#saver = tf.train.Saver()\n",
    "init = tf.global_variables_initializer()\n",
    "\n",
    "losses = []\n",
    "n_samples = X_train.shape[0]\n",
    "with tf.Session() as sess:\n",
    "    sess.run(init)\n",
    "    \n",
    "    for e in range(EPOCHS):\n",
    "        # shuffle the training data\n",
    "        X_train, y_train = shuffle(X_train, y_train)\n",
    "        for i in range((n_samples + BATCHSIZE - 1) // BATCHSIZE):\n",
    "            sl = slice(i * BATCHSIZE, (i+1) * BATCHSIZE)\n",
    "            X_b = X_train[sl]\n",
    "            y_b = y_train[sl]\n",
    "            _, train_loss = sess.run([train_step, loss], feed_dict={X: X_b, y: y_b})\n",
    "            losses.append(train_loss)\n",
    "            \n",
    "        if e % 3 == 0:\n",
    "            valid_preds, valid_loss = sess.run([predictions, loss], feed_dict={X: X_val, y: y_val})\n",
    "            valid_acc = accuracy(valid_preds, y_val)\n",
    "            print(\"Epoch:\", e,\n",
    "                  \"Current loss:\", train_loss,\n",
    "                  \"Valid loss:\", valid_loss,\n",
    "                  \"Valid_acc:\", valid_acc)\n",
    "\n",
    "    # We use a built-in TF helper to export variables to constants\n",
    "    output_node_name = 'cnn/output/logits_output'\n",
    "    output_graph_def = tf.graph_util.convert_variables_to_constants(\n",
    "        sess, # The session is used to retrieve the weights\n",
    "        tf.get_default_graph().as_graph_def(), # The graph_def is used to retrieve the nodes \n",
    "        output_node_name.split(\",\") # The output node names are used to select the usefull nodes\n",
    "    ) \n",
    "\n",
    "    # Finally we serialize and dump the output graph to the filesystem\n",
    "    with tf.gfile.GFile('./saved_model/cnn_mnist.pb', \"wb\") as f:\n",
    "        f.write(output_graph_def.SerializeToString())\n",
    "        \n",
    "    saver = tf.train.Saver()\n",
    "    saver.save(sess, './saved_model/cnn_mnist.ckpt')"
   ]
  },
  {
   "cell_type": "code",
   "execution_count": null,
   "metadata": {
    "collapsed": false
   },
   "outputs": [],
   "source": [
    "plt.plot(np.array(losses))\n",
    "plt.show()"
   ]
  },
  {
   "cell_type": "markdown",
   "metadata": {},
   "source": [
    "Collect the predictions for the test set."
   ]
  },
  {
   "cell_type": "code",
   "execution_count": null,
   "metadata": {
    "collapsed": false,
    "scrolled": false
   },
   "outputs": [],
   "source": [
    "# best weight values are saved in the checkpoint\n",
    "with tf.Session() as sess:\n",
    "    # restore the session that we used to train the model\n",
    "    saver.restore(sess, './saved_model/cnn_mnist.ckpt')\n",
    "    # get the predictions for all of the images in the testing dataset\n",
    "    preds = sess.run(predictions, feed_dict={X: X_test})\n",
    "    pred_val = tf.argmax(preds, 1).eval()"
   ]
  },
  {
   "cell_type": "markdown",
   "metadata": {},
   "source": [
    "Display some of the images and their predicted values."
   ]
  },
  {
   "cell_type": "code",
   "execution_count": null,
   "metadata": {
    "collapsed": false,
    "scrolled": false
   },
   "outputs": [],
   "source": [
    "for j in range(10):\n",
    "    plt.imshow(X_test[j].squeeze())\n",
    "    plt.title('True: {} | Predicted: {}'.format(class_dict[np.argmax(y_test[j])],\n",
    "                                                class_dict[pred_val[j]]))\n",
    "    plt.show()"
   ]
  },
  {
   "cell_type": "code",
   "execution_count": null,
   "metadata": {
    "collapsed": true
   },
   "outputs": [],
   "source": []
  }
 ],
 "metadata": {
  "anaconda-cloud": {},
  "kernelspec": {
   "display_name": "Python [conda root]",
   "language": "python",
   "name": "conda-root-py"
  },
  "language_info": {
   "codemirror_mode": {
    "name": "ipython",
    "version": 3
   },
   "file_extension": ".py",
   "mimetype": "text/x-python",
   "name": "python",
   "nbconvert_exporter": "python",
   "pygments_lexer": "ipython3",
   "version": "3.5.2"
  }
 },
 "nbformat": 4,
 "nbformat_minor": 1
}
